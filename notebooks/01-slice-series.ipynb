{
 "cells": [
  {
   "cell_type": "code",
   "execution_count": 1,
   "metadata": {
    "collapsed": true
   },
   "outputs": [],
   "source": [
    "import matplotlib.pyplot as plt\n",
    "%matplotlib inline"
   ]
  },
  {
   "cell_type": "code",
   "execution_count": 2,
   "metadata": {
    "collapsed": false
   },
   "outputs": [],
   "source": [
    "from gensim.models.word2vec import Word2Vec"
   ]
  },
  {
   "cell_type": "code",
   "execution_count": 3,
   "metadata": {
    "collapsed": false
   },
   "outputs": [],
   "source": [
    "from collections import OrderedDict\n",
    "\n",
    "models = OrderedDict([\n",
    "    (year, Word2Vec.load('models/{}.bin'.format(year)))\n",
    "    for year in range(1720, 1960, 20)\n",
    "])"
   ]
  },
  {
   "cell_type": "code",
   "execution_count": 4,
   "metadata": {
    "collapsed": true
   },
   "outputs": [],
   "source": [
    "def cosine_series(anchor, query):\n",
    "    \n",
    "    return OrderedDict([\n",
    "        (year, model.similarity(anchor, query))\n",
    "        for year, model in models.items()\n",
    "    ])"
   ]
  },
  {
   "cell_type": "code",
   "execution_count": 46,
   "metadata": {
    "collapsed": false
   },
   "outputs": [],
   "source": [
    "import numpy as np\n",
    "import statsmodels.api as sm\n",
    "\n",
    "def lin_reg(series):\n",
    "\n",
    "    x = np.array(list(series.keys()))\n",
    "    y = np.array(list(series.values()))\n",
    "\n",
    "    x = sm.add_constant(x)\n",
    "\n",
    "    return sm.OLS(y, x).fit()"
   ]
  },
  {
   "cell_type": "code",
   "execution_count": 47,
   "metadata": {
    "collapsed": false
   },
   "outputs": [],
   "source": [
    "def plot_cosine_series(anchor, query):\n",
    "    \n",
    "    series = cosine_series(anchor, query)\n",
    "    \n",
    "    fit = lin_reg(series)\n",
    "\n",
    "    x1 = list(series.keys())[0]\n",
    "    x2 = list(series.keys())[-1]\n",
    "\n",
    "    y1 = fit.predict()[0]\n",
    "    y2 = fit.predict()[-1]\n",
    "    \n",
    "    plt.ylim(0, 1)\n",
    "    plt.title('{} :: {}'.format(anchor, query))\n",
    "    plt.xlabel('Year')\n",
    "    plt.ylabel('Similarity')\n",
    "    plt.plot(list(series.keys()), list(series.values()))\n",
    "    plt.show()"
   ]
  },
  {
   "cell_type": "code",
   "execution_count": 48,
   "metadata": {
    "collapsed": false
   },
   "outputs": [
    {
     "data": {
      "image/png": "[encoded data removed]",
      "text/plain": [
       "<matplotlib.figure.Figure at 0x18598ada0>"
      ]
     },
     "metadata": {},
     "output_type": "display_data"
    },
    {
     "data": {
      "image/png": "[encoded data removed]",
      "text/plain": [
       "<matplotlib.figure.Figure at 0x1733ca1d0>"
      ]
     },
     "metadata": {},
     "output_type": "display_data"
    }
   ],
   "source": [
    "plot_cosine_series('literature', 'polite')\n",
    "plot_cosine_series('literature', 'school')"
   ]
  },
  {
   "cell_type": "code",
   "execution_count": 49,
   "metadata": {
    "collapsed": false
   },
   "outputs": [
    {
     "data": {
      "text/plain": [
       "<statsmodels.regression.linear_model.RegressionResultsWrapper at 0x185af1da0>"
      ]
     },
     "execution_count": 49,
     "metadata": {},
     "output_type": "execute_result"
    }
   ],
   "source": [
    "poetry = cosine_series('literature', 'poetry')\n",
    "lin_reg(poetry)"
   ]
  },
  {
   "cell_type": "code",
   "execution_count": 38,
   "metadata": {
    "collapsed": true
   },
   "outputs": [],
   "source": [
    "def neighbor_vocab(anchor, topn=200):\n",
    "    \n",
    "    vocab = set()\n",
    "    \n",
    "    for year, model in models.items():\n",
    "        similar = model.most_similar(anchor, topn=topn)\n",
    "        vocab.update([s[0] for s in similar])\n",
    "        \n",
    "    return vocab"
   ]
  },
  {
   "cell_type": "code",
   "execution_count": 39,
   "metadata": {
    "collapsed": true
   },
   "outputs": [],
   "source": [
    "vocab = neighbor_vocab('literature')"
   ]
  }
 ],
 "metadata": {
  "kernelspec": {
   "display_name": "Python 3",
   "language": "python",
   "name": "python3"
  },
  "language_info": {
   "codemirror_mode": {
    "name": "ipython",
    "version": 3
   },
   "file_extension": ".py",
   "mimetype": "text/x-python",
   "name": "python",
   "nbconvert_exporter": "python",
   "pygments_lexer": "ipython3",
   "version": "3.5.2"
  }
 },
 "nbformat": 4,
 "nbformat_minor": 2
}
